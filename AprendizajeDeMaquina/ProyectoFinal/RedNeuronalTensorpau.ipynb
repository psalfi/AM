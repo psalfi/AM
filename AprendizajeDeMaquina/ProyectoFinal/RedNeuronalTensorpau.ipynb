{
 "cells": [
  {
   "cell_type": "markdown",
   "metadata": {},
   "source": [
    "# Ejemplo Red Neuronal con sigmoide (regresión logística)"
   ]
  },
  {
   "cell_type": "code",
   "execution_count": 18,
   "metadata": {
    "collapsed": false
   },
   "outputs": [],
   "source": [
    "import tensorflow as tf\n",
    "import numpy as np"
   ]
  },
  {
   "cell_type": "code",
   "execution_count": 19,
   "metadata": {
    "collapsed": false
   },
   "outputs": [],
   "source": [
    "import matplotlib.pyplot as plt\n",
    "%matplotlib inline"
   ]
  },
  {
   "cell_type": "code",
   "execution_count": 20,
   "metadata": {
    "collapsed": false
   },
   "outputs": [],
   "source": [
    "X=np.asarray([[0,0],[0,1],[1,0],[1,1]])\n",
    "Y=np.asarray([[1],[0],[0],[1]])"
   ]
  },
  {
   "cell_type": "markdown",
   "metadata": {},
   "source": [
    "Declaracion de variables"
   ]
  },
  {
   "cell_type": "code",
   "execution_count": 21,
   "metadata": {
    "collapsed": false
   },
   "outputs": [],
   "source": [
    "input_size=2\n",
    "output_layer_size=1\n",
    "#Los placeholders son para los datos de entrada\n",
    "x_ = tf.placeholder(tf.float32, [None, input_size])\n",
    "y_ = tf.placeholder(tf.float32, [None, output_layer_size]) #la y real\n",
    "#La variables para lo que se va a ir calculando y modificando en el camino\n",
    "W_layer1=tf.Variable(tf.random_uniform([input_size,2], -1, 1), name=\"W_layer1\")\n",
    "b_layer1 = tf.Variable(tf.zeros([2]), name=\"b_layer1\")\n",
    "\n",
    "W_layer2=tf.Variable(tf.random_uniform([input_size,output_layer_size], -1, 1), name=\"W_layer2\")\n",
    "b_layer2 = tf.Variable(tf.zeros([output_layer_size]), name=\"b_layer2\")\n"
   ]
  },
  {
   "cell_type": "markdown",
   "metadata": {},
   "source": [
    "\n",
    "Operaciones, grafo"
   ]
  },
  {
   "cell_type": "code",
   "execution_count": 28,
   "metadata": {
    "collapsed": false
   },
   "outputs": [],
   "source": [
    "H = tf.nn.sigmoid(tf.matmul(x_,W_layer1)+b_layer1) #la de nuestra\n",
    "y = tf.nn.sigmoid(tf.matmul(H,W_layer2)+b_layer2) #la de nuestra\n",
    "loss = tf.reduce_mean(tf.reduce_sum((y_-y)**2)) #cuadratico\n",
    "train_step = tf.train.GradientDescentOptimizer(0.01).minimize(loss)\n",
    "\n"
   ]
  },
  {
   "cell_type": "code",
   "execution_count": 29,
   "metadata": {
    "collapsed": true
   },
   "outputs": [],
   "source": [
    "init = tf.initialize_all_variables()\n",
    "sess = tf.Session() # tipo de sesion, puede ser interactiva\n"
   ]
  },
  {
   "cell_type": "markdown",
   "metadata": {},
   "source": [
    "Correr programa"
   ]
  },
  {
   "cell_type": "code",
   "execution_count": 58,
   "metadata": {
    "collapsed": false
   },
   "outputs": [],
   "source": [
    "sess.run(init)\n",
    "for i in range(50000):\n",
    "     sess.run(train_step, feed_dict={x_: X, y_: Y })\n",
    "\n",
    "    "
   ]
  },
  {
   "cell_type": "code",
   "execution_count": 64,
   "metadata": {
    "collapsed": false
   },
   "outputs": [
    {
     "name": "stdout",
     "output_type": "stream",
     "text": [
      "[[ 0.95410633]\n",
      " [ 0.07250253]\n",
      " [ 0.50017601]\n",
      " [ 0.49245149]]\n",
      "[[ 6.16938782]\n",
      " [ 3.64113593]]\n"
     ]
    }
   ],
   "source": [
    "#imprimir alguna variable\n",
    "print(sess.run(y, feed_dict={x_: X, y_: Y}))\n",
    "print(sess.run(W_layer2, feed_dict={x_: X, y_: Y}))"
   ]
  },
  {
   "cell_type": "markdown",
   "metadata": {},
   "source": [
    "Cuantificar Error"
   ]
  },
  {
   "cell_type": "code",
   "execution_count": 65,
   "metadata": {
    "collapsed": false
   },
   "outputs": [
    {
     "name": "stdout",
     "output_type": "stream",
     "text": [
      "0.5\n"
     ]
    }
   ],
   "source": [
    "correct_prediction = tf.equal(tf.round(y),y_) # aca estams definiendo otras operacioes\n",
    "accuracy = tf.reduce_mean(tf.cast(correct_prediction, tf.float32))\n",
    "print(sess.run(accuracy, feed_dict={x_: X, y_: Y})) # las corremos"
   ]
  },
  {
   "cell_type": "markdown",
   "metadata": {},
   "source": [
    "Visualizar Barrera de Decisión. Sacar las w del grafo de Tensorflow"
   ]
  },
  {
   "cell_type": "code",
   "execution_count": 66,
   "metadata": {
    "collapsed": false
   },
   "outputs": [],
   "source": [
    "w=[sess.run(b_layer2, feed_dict={x_: X, y_: Y})[0]]+[i[0] for i in sess.run(W_layer2, feed_dict={x_: X, y_: Y})]"
   ]
  },
  {
   "cell_type": "code",
   "execution_count": null,
   "metadata": {
    "collapsed": true
   },
   "outputs": [],
   "source": [
    "Donde vale $X_1$ cero y donde $X_2$ vale cero? $w_0+w_1X_1+w_2X_2 =0$. $X_1=\\frac{-w_2X_2-w_0}{w_1}$ y $X_2=\\frac{-w_1X_1-w_0}{w_2}$\n"
   ]
  },
  {
   "cell_type": "markdown",
   "metadata": {},
   "source": [
    "Buscamos una recta que pasa por $\\left(0,\\frac{-w_0}{w_2}\\right)$ y $\\left(\\frac{-w_0}{w_1},0\\right)$, la pendiente es $\\frac{\\frac{-w_0}{w_2}-0}{0-\\frac{-w_0}{w_1}}=\\frac{-w_1}{w_2}$ \n",
    "La ordenada $y-y_1=m(x-x_1)$ es $y-\\frac{-w_0}{w_2}=\\frac{-w_1}{w_2} x$, $y=\\frac{-w_1}{w_2} x+\\frac{-w_0}{w_2}$\n"
   ]
  },
  {
   "cell_type": "code",
   "execution_count": 67,
   "metadata": {
    "collapsed": false
   },
   "outputs": [
    {
     "name": "stdout",
     "output_type": "stream",
     "text": [
      "0.591361 1.00198 -1.69436\n"
     ]
    }
   ],
   "source": [
    "m=((w[0]/w[2]))/((-w[0]/w[1]))\n",
    "print -w[0]/w[1], -w[0]/w[2], m"
   ]
  },
  {
   "cell_type": "code",
   "execution_count": 68,
   "metadata": {
    "collapsed": false
   },
   "outputs": [
    {
     "data": {
      "text/plain": [
       "(-5.2, 5.2)"
      ]
     },
     "execution_count": 68,
     "metadata": {},
     "output_type": "execute_result"
    },
    {
     "data": {
      "image/png": "[encoded data removed]",
      "text/plain": [
       "<matplotlib.figure.Figure at 0x7f859c813e90>"
      ]
     },
     "metadata": {},
     "output_type": "display_data"
    }
   ],
   "source": [
    "plt.scatter(X[:,0],X[:,1],c=['red' if i==1 else 'blue' for i in Y])\n",
    "x2 = np.linspace(-5.2,5.2,100) # 100 numeros espaciados\n",
    "plt.plot(x2,-w[0]/w[2]+m*x2,color='red')\n",
    "plt.ylim([-5.2,5.2])\n",
    "plt.xlim([-5.2,5.2])"
   ]
  },
  {
   "cell_type": "code",
   "execution_count": 26,
   "metadata": {
    "collapsed": true
   },
   "outputs": [],
   "source": [
    "sess.close()"
   ]
  },
  {
   "cell_type": "code",
   "execution_count": null,
   "metadata": {
    "collapsed": true
   },
   "outputs": [],
   "source": []
  }
 ],
 "metadata": {
  "anaconda-cloud": {},
  "kernelspec": {
   "display_name": "Python 2",
   "language": "python",
   "name": "python2"
  },
  "language_info": {
   "codemirror_mode": {
    "name": "ipython",
    "version": 2
   },
   "file_extension": ".py",
   "mimetype": "text/x-python",
   "name": "python",
   "nbconvert_exporter": "python",
   "pygments_lexer": "ipython2",
   "version": "2.7.6"
  }
 },
 "nbformat": 4,
 "nbformat_minor": 1
}
