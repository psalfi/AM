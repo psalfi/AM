{
 "cells": [
  {
   "cell_type": "markdown",
   "metadata": {},
   "source": [
    "<img src=\"../images/logoitam.gif\">\n",
    "\n",
    "# Maestría en Ciencia de Datos\n",
    "## Simulación\n",
    "* Machine Learning | 10 de octubre de 2016 |\n",
    "* Alumnas: \n",
    "    - Gabriela Flores Bracamontes |  Clave: 160124 |\n",
    "    - Guillermina Montanari Luján | Clave: 101421 |\n",
    "    - Paulina Salgado Figueroa    | Clave: 160314 |\n",
    "\n",
    "### **Objetivo**:\n",
    "Simular a un vehículo que tiene que navegar una carretera de 4 carriles con obstáculos, utilizando redes neuronales(TensorFlow) para el entrenamiento del modelo.\n",
    "\n",
    "### Actividades:\n",
    "    1.- Entrene una red\n",
    "        - Tiene que generar los datos\n",
    "    2.- Instanciar el simulador\n",
    "        - carre=HighwaySimulator(df) \n",
    "    3.- Correrlo con una red entrenada\n",
    "``` python\n",
    "         for i in range(100):\n",
    "         val=sess.run(y,feed_dict={x:[carre.sensor()]})[0]\n",
    "         carre.move(salida(val))\n",
    "```\n",
    "    4.- Ver cuantos choques y cuantos pasos\n",
    "    \n",
    "``` python\n",
    "        print carre.steps\n",
    "        print carre.crashes\n",
    "``` \n",
    "\n",
    "*_**Nota**_*: \n",
    "    - Si no navegar con éxito experimente con los datos y topología de red.\n",
    "    - Puede probar con varias carreteras (al menos la 4)\n",
    "\n",
    "### Especificaciones:\n",
    "    * El simulador (HighwaySimulator)tiene los siguiente métodos\n",
    "        - def __init__(self,world,grafica=True):\n",
    "            + Donde world es un dataframe con la carretera\n",
    "            + La carretera comienza en el reglón cero\n",
    "        - def sensor(self):\n",
    "            + Regresa los valores censados por el vehículo en una lista\n",
    "            + Las tres posiciones traseras\n",
    "            + Las tres posiciones laterales (la de en medio es donde esta el vehículo y tiene un cero)\n",
    "            + Las tres posiciones frontales \n",
    "    * Copie el simulador a su proyecto\n",
    "        - def move(self,m):\n",
    "            + Hace que el vehículo se mueva. Los posibles movimientos son\n",
    "                - B: para atrás \n",
    "                - F: para adelante‘\n",
    "                - L: izquierda\n",
    "                - R:derecha\n",
    "            + El coche no gira, siempre ve al frente por los movimientos siempre mueven al vehículo en la misma dirección absoluta, e.g. ‘F’ siempre lo mueve al siguiente renglón.\n",
    "    * Si hay un obstáculo esto se contabiliza en la variable crashes y el vehículo no se mueve\n",
    "        - Los obstáculos se codifican con un 1 y los espacios libres con un 0\n",
    "    * La variable steps cuenta cuantos pasos lleva el vehículo\n",
    "    * Este método grafica burdamente la carrera. El vehículo transita de abajo a arriba\n"
   ]
  },
  {
   "cell_type": "markdown",
   "metadata": {},
   "source": [
    "# Ejemplo Red Neuronal con sigmoide (regresión logística)\n",
    "## Topología de la red\n",
    "<img src=\"../images/NNCarSimulation.png\">"
   ]
  },
  {
   "cell_type": "code",
   "execution_count": 1,
   "metadata": {
    "collapsed": true
   },
   "outputs": [],
   "source": [
    "import tensorflow as tf\n",
    "import numpy as np\n",
    "import pandas as pd\n",
    "import numpy as np\n",
    "import csv\n",
    "import random\n",
    "import matplotlib.pyplot as plt\n",
    "%matplotlib inline"
   ]
  },
  {
   "cell_type": "code",
   "execution_count": 2,
   "metadata": {
    "collapsed": false
   },
   "outputs": [],
   "source": [
    "class HighwaySimulator:\n",
    "\t\"\"\"This class keeps track of the state of the world and is able to sense it\"\"\"\n",
    "\tMAXCRASHES=1000\n",
    "\tdef __init__(self,world,grafica=True):\n",
    "\t\tself.world=world\n",
    "\t\tself.positionY=0\n",
    "\t\tself.positionX=random.randint(1,len(world.columns)-2)\n",
    "\t\tself.trayectoriaX=[self.positionX]\n",
    "\t\tself.trayectoriaY=[self.positionY]\n",
    "\t\tself.crashes=0\n",
    "\t\tself.steps=0\n",
    "\t\tself.out=False\n",
    "\t\tself.graficar=grafica\n",
    "\t\t#graficar\n",
    "\t\tif grafica:\n",
    "\t\t\tl=[(j,world.ix[i,j]*i) for i in range(len(world.index)) for j in range(len(world.columns)) ]\n",
    "\t\t\tl=zip(*l)\n",
    "\t\t\tplt.scatter(l[0],l[1])\n",
    "\t\t\n",
    "\t#returns the values (for now noiseless of the Moore neighborhood) from left to right, top to bottom \n",
    "\tdef sensor(self):\n",
    "\t\toutput=[]\n",
    "\t\tpositionY=self.positionY\n",
    "\t\tpositionX=self.positionX\n",
    "\t\tworld=self.world\n",
    "\t\tif positionY==0:\n",
    "\t\t\toutput= output + [1,1,1] #behind limit\n",
    "\t\telse:\n",
    "\t\t\toutput=output + [df.ix[positionY-1,positionX-1],df.ix[positionY-1,positionX],df.ix[positionY-1,positionX+1] ] #behind\n",
    "\t\toutput=output + [df.ix[positionY,positionX-1],df.ix[positionY,positionX],df.ix[positionY,positionX+1] ] #sides\n",
    "\t\tif positionY==len(world.index)-1: #front boundary\n",
    "\t\t\toutput= output + [1,1,1]\n",
    "\t\telse:\n",
    "\t\t\toutput=output + [df.ix[positionY+1,positionX-1],df.ix[positionY+1,positionX],df.ix[positionY+1,positionX+1] ] #front\n",
    "\t\treturn output\n",
    "\t\t\n",
    "\t###Set an arbitrary position\n",
    "\tdef setPosition(self,x,y):\n",
    "\t\tworld=self.world\n",
    "\t\tif x<=1:\n",
    "\t\t\tself.positionX=1\n",
    "\t\telse:\n",
    "\t\t\tif x >= len(world.columns) -2:\n",
    "\t\t\t\tself.positionX=len(world.columns) -2\n",
    "\t\t\telse:\n",
    "\t\t\t\tself.positionX=x\n",
    "\t\t\n",
    "\t\tif y<=0:\n",
    "\t\t\tself.positionY=0\n",
    "\t\telse:\n",
    "\t\t\tif y >= len(world.index) -1:\n",
    "\t\t\t\tself.positionY=len(world.index) -1\n",
    "\t\t\telse:\n",
    "\t\t\t\tself.positionY=y\n",
    "\t\n",
    "\tdef checkPosition(self,x,y):\n",
    "\t\tworld=self.world\n",
    "\t\tif x<1:\n",
    "\t\t\treturn 0\n",
    "\t\t\n",
    "\t\tif x > len(world.columns) -2:\n",
    "\t\t\treturn 0\n",
    "\t\t\t\t\n",
    "\t\tif y<0:\n",
    "\t\t\treturn 1\n",
    "\t\t\n",
    "\t\tif y >= len(world.index) -1:\n",
    "\t\t\treturn 2\n",
    "\t\tif world.ix[y,x]==0:\n",
    "\t\t\treturn 3\n",
    "\t\telse:\n",
    "\t\t\treturn 0\n",
    "\t###Move\n",
    "\tdef move(self,m):\n",
    "\t\tif self.out:\n",
    "\t\t\tprint \"You are already out\"\n",
    "\t\t\treturn\n",
    "\t\tif self.crashes >= self.MAXCRASHES:\n",
    "\t\t\tprint \"Too many accidents!!!!\"\n",
    "\t\t\treturn\n",
    "\t\tif m=='F':\n",
    "\t\t\tres=self.checkPosition(self.positionX,self.positionY+1)\n",
    "\t\t\tif res==3:\n",
    "\t\t\t\tself.positionY=self.positionY+1\n",
    "\t\t\telif res==2:\n",
    "\t\t\t\tprint 'You are out, congratulations!!'\n",
    "\t\t\t\tself.out=True\n",
    "\t\t\telse:\n",
    "\t\t\t\tprint \"Crash\"\n",
    "\t\t\t\tself.crashes=self.crashes+1\n",
    "\t\tif m=='B':\n",
    "\t\t\tres=self.checkPosition(self.positionX,self.positionY-1)\n",
    "\t\t\tif res==3:\n",
    "\t\t\t\tself.positionY=self.positionY-1\n",
    "\t\t\telse:\n",
    "\t\t\t\tprint \"Crash\"\n",
    "\t\t\t\tself.crashes=self.crashes+1\n",
    "\t\tif m=='R':\n",
    "\t\t\tres=self.checkPosition(self.positionX+1,self.positionY)\n",
    "\t\t\tif res==3:\n",
    "\t\t\t\tself.positionX=self.positionX+1\n",
    "\t\t\telse:\n",
    "\t\t\t\tprint \"Crash\"\n",
    "\t\t\t\tself.crashes=self.crashes+1\n",
    "\t\tif m=='L':\n",
    "\t\t\tres=self.checkPosition(self.positionX-1,self.positionY)\n",
    "\t\t\tif res==3:\n",
    "\t\t\t\tself.positionX=self.positionX-1\n",
    "\t\t\telse:\n",
    "\t\t\t\tprint \"Crash\"\n",
    "\t\t\t\tself.crashes=self.crashes+1\t\n",
    "\t\tif res ==3 and self.graficar:\n",
    "\t\t\tself.trayectoriaX=self.trayectoriaX+[self.positionX]\n",
    "\t\t\tself.trayectoriaY=self.trayectoriaY+[self.positionY]\n",
    "\t\t\tplt.plot(self.trayectoriaX,self.trayectoriaY,color='red')\n",
    "\t\t\n",
    "\t\tself.steps=self.steps+1\t\n",
    "\n",
    "def muevete(y):\n",
    "    salida=\"\"\n",
    "    y0=round(y[0])\n",
    "    y1=round(y[1])\n",
    "    if y0==0 and y1==0:\n",
    "        salida=\"F\"\n",
    "    elif y0==0 and y1==1:\n",
    "        salida=\"L\"\n",
    "    elif y0==1 and y1==0:\n",
    "        salida=\"R\"\n",
    "    else:\n",
    "        salida=\"B\"\n",
    "    \n",
    "    return salida\n",
    "\n",
    "def entrena_datos():\n",
    "    salida=\"\"\n",
    "    X=[]\n",
    "    Y=[]\n",
    "    for i in range(511):\n",
    "        x=(map(int,str('{:09b}'.format(i))))\n",
    "        if x[7]==0:\n",
    "            salida=\"F\"\n",
    "            Y.append([0,0])\n",
    "        elif x[3]==0 and x[6]==0:\n",
    "            salida=\"L\"\n",
    "            Y.append([0,1])\n",
    "        elif x[5]==0 and x[8]==0:\n",
    "            salida=\"R\"\n",
    "            Y.append([1,0])\n",
    "        elif x[3]==0:\n",
    "            salida=\"L\"\n",
    "            Y.append([0,1])        \n",
    "        elif x[5]==0:\n",
    "            salida=\"R\"\n",
    "            Y.append([1,0])        \n",
    "        else:\n",
    "            salida=\"B\"\n",
    "            Y.append([1,1])\n",
    "        X.append(x)\n",
    "    \n",
    "    X=np.asarray(X)\n",
    "    Y=np.asarray(Y)\n",
    "    \n",
    "    return X,Y\n"
   ]
  },
  {
   "cell_type": "code",
   "execution_count": 3,
   "metadata": {
    "collapsed": false
   },
   "outputs": [],
   "source": [
    "X,Y = entrena_datos()"
   ]
  },
  {
   "cell_type": "markdown",
   "metadata": {},
   "source": [
    "# Declaracion de variables"
   ]
  },
  {
   "cell_type": "code",
   "execution_count": 4,
   "metadata": {
    "collapsed": false
   },
   "outputs": [],
   "source": [
    "#Los placeholders son para los datos de entrada\n",
    "x_ = tf.placeholder(tf.float32, [None, 9])\n",
    "y_ = tf.placeholder(tf.float32, [None, 2]) #la y real\n",
    "#La variables para lo que se va a ir calculando y modificando en el camino\n",
    "\n",
    "# Capa oculta\n",
    "# W_layerx son los pesos para la capa x\n",
    "W_layer1=tf.Variable(tf.random_uniform([9,4], -1, 1), name=\"W_layer1\")\n",
    "# b_layerx son las w0's - independientes. Genera un vector de 0 en este caso 4 neuronas\n",
    "b_layer1 = tf.Variable(tf.zeros([4]), name=\"b_layer1\")\n",
    "\n",
    "# Capa de salida\n",
    "W_layer2=tf.Variable(tf.random_uniform([4,2], -1, 1), name=\"W_layer2\")\n",
    "b_layer2 = tf.Variable(tf.zeros([2]), name=\"b_layer2\")\n"
   ]
  },
  {
   "cell_type": "markdown",
   "metadata": {},
   "source": [
    "# Operaciones, grafo"
   ]
  },
  {
   "cell_type": "code",
   "execution_count": 5,
   "metadata": {
    "collapsed": false
   },
   "outputs": [],
   "source": [
    "# Aplicamos la funcion de ajuste de x*w\n",
    "# H es una matriz 9 por 4\n",
    "H = tf.nn.sigmoid(tf.matmul(x_,W_layer1)+b_layer1)\n",
    "\n",
    "# y es una matriz 4 por 2\n",
    "y = tf.nn.sigmoid(tf.matmul(H,W_layer2)+b_layer2)\n",
    "\n",
    "# Funcion de pérdida - error\n",
    "loss = tf.reduce_mean(tf.reduce_sum((y_-y)**2)) \n",
    "\n",
    "# Aprende minimizando la funciòn de perdida\n",
    "train_step = tf.train.GradientDescentOptimizer(0.01).minimize(loss)\n",
    "\n"
   ]
  },
  {
   "cell_type": "markdown",
   "metadata": {},
   "source": [
    "# Inicializo la red"
   ]
  },
  {
   "cell_type": "code",
   "execution_count": 6,
   "metadata": {
    "collapsed": true
   },
   "outputs": [],
   "source": [
    "init = tf.initialize_all_variables()\n",
    "sess = tf.Session() # tipo de sesion, puede ser interactiva\n"
   ]
  },
  {
   "cell_type": "markdown",
   "metadata": {},
   "source": [
    "# Ejecuto el aprendizaje"
   ]
  },
  {
   "cell_type": "code",
   "execution_count": 7,
   "metadata": {
    "collapsed": false
   },
   "outputs": [],
   "source": [
    "sess.run(init)\n",
    "for i in range(10000):\n",
    "     sess.run(train_step, feed_dict={x_: X, y_: Y })\n",
    "\n",
    "    "
   ]
  },
  {
   "cell_type": "code",
   "execution_count": 8,
   "metadata": {
    "collapsed": false
   },
   "outputs": [
    {
     "name": "stdout",
     "output_type": "stream",
     "text": [
      "[[  1.52457851e-05   1.45062063e-06]\n",
      " [  9.59728297e-08   7.34582660e-04]\n",
      " [  1.54127758e-02   9.85457480e-01]\n",
      " ..., \n",
      " [  3.33871995e-03   4.38894540e-06]\n",
      " [  3.41825210e-03   1.73828594e-05]\n",
      " [  9.95121777e-01   9.84239936e-01]]\n",
      "[[  0.10302978   7.66518879]\n",
      " [-10.64034081   5.3408494 ]\n",
      " [ -0.94091481  -9.22294903]\n",
      " [-10.96506691  -8.55016804]]\n"
     ]
    }
   ],
   "source": [
    "#imprimir alguna variable\n",
    "print(sess.run(y, feed_dict={x_: X, y_: Y}))\n",
    "print(sess.run(W_layer2, feed_dict={x_: X, y_: Y}))"
   ]
  },
  {
   "cell_type": "markdown",
   "metadata": {},
   "source": [
    "# Cuantificar Error"
   ]
  },
  {
   "cell_type": "code",
   "execution_count": 9,
   "metadata": {
    "collapsed": false
   },
   "outputs": [
    {
     "name": "stdout",
     "output_type": "stream",
     "text": [
      "1.0\n"
     ]
    }
   ],
   "source": [
    "correct_prediction = tf.equal(tf.round(y),y_) # aca estams definiendo otras operacioes\n",
    "accuracy = tf.reduce_mean(tf.cast(correct_prediction, tf.float32))\n",
    "print(sess.run(accuracy, feed_dict={x_: X, y_: Y})) # las corremos"
   ]
  },
  {
   "cell_type": "markdown",
   "metadata": {},
   "source": [
    "# Sigmoidal\n",
    "## 0.988889 4 neuronas\n",
    "## 0.988889 3 neuronas\n",
    "## 0.988889 2 neuronas"
   ]
  },
  {
   "cell_type": "markdown",
   "metadata": {},
   "source": [
    "# Tangente Hiperbólica\n",
    "## 0.988889 4 neuronas\n",
    "## 0.988889 3 neuronas\n",
    "## 0.988889 2 neuronas"
   ]
  },
  {
   "cell_type": "code",
   "execution_count": 10,
   "metadata": {
    "collapsed": false
   },
   "outputs": [],
   "source": [
    "dia = csv.excel()\n",
    "df = pd.read_csv(\"carretera4.csv\")"
   ]
  },
  {
   "cell_type": "code",
   "execution_count": 11,
   "metadata": {
    "collapsed": false
   },
   "outputs": [
    {
     "data": {
      "image/png": "[encoded data removed]",
      "text/plain": [
       "<matplotlib.figure.Figure at 0x7fa9ba0b3f10>"
      ]
     },
     "metadata": {},
     "output_type": "display_data"
    }
   ],
   "source": [
    "carre=HighwaySimulator(df)"
   ]
  },
  {
   "cell_type": "code",
   "execution_count": 12,
   "metadata": {
    "collapsed": false
   },
   "outputs": [
    {
     "name": "stdout",
     "output_type": "stream",
     "text": [
      "You are out, congratulations!!\n",
      "You are already out\n",
      "You are already out\n",
      "You are already out\n",
      "You are already out\n",
      "You are already out\n",
      "You are already out\n",
      "You are already out\n",
      "You are already out\n"
     ]
    },
    {
     "data": {
      "image/png": "[encoded data removed]",
      "text/plain": [
       "<matplotlib.figure.Figure at 0x7fa9b1e18550>"
      ]
     },
     "metadata": {},
     "output_type": "display_data"
    }
   ],
   "source": [
    "for i in range(100):\n",
    "#    print(carre.sensor())\n",
    "    val=sess.run(y,feed_dict={x_:[carre.sensor()]})[0]\n",
    "#    print(i,val)\n",
    "    salida= muevete(val)\n",
    "#    print(salida)\n",
    "    carre.move(salida)   \n"
   ]
  },
  {
   "cell_type": "code",
   "execution_count": 13,
   "metadata": {
    "collapsed": false
   },
   "outputs": [
    {
     "name": "stdout",
     "output_type": "stream",
     "text": [
      "92\n",
      "0\n"
     ]
    }
   ],
   "source": [
    "print (carre.steps)\n",
    "print (carre.crashes)"
   ]
  }
 ],
 "metadata": {
  "anaconda-cloud": {},
  "kernelspec": {
   "display_name": "Python 2",
   "language": "python",
   "name": "python2"
  },
  "language_info": {
   "codemirror_mode": {
    "name": "ipython",
    "version": 2
   },
   "file_extension": ".py",
   "mimetype": "text/x-python",
   "name": "python",
   "nbconvert_exporter": "python",
   "pygments_lexer": "ipython2",
   "version": "2.7.12"
  }
 },
 "nbformat": 4,
 "nbformat_minor": 1
}
